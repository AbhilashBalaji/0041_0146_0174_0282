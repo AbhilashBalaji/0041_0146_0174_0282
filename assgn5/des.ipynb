{
 "cells": [
  {
   "cell_type": "code",
   "execution_count": 9,
   "metadata": {},
   "outputs": [
    {
     "name": "stdout",
     "output_type": "stream",
     "text": [
      "3650    13.846924\n",
      "3651    13.846924\n",
      "3652    13.846924\n",
      "3653    13.846924\n",
      "3654    13.846924\n",
      "          ...    \n",
      "7295    13.846924\n",
      "7296    13.846924\n",
      "7297    13.846924\n",
      "7298    13.846924\n",
      "7299    13.846924\n",
      "Length: 3650, dtype: float64\n"
     ]
    }
   ],
   "source": [
    "import numpy as np\n",
    "import pandas as pd\n",
    "import matplotlib.pyplot as plt\n",
    "from statsmodels.tsa.holtwinters import ExponentialSmoothing\n",
    "\n",
    "dataset = open(\"temperatures.csv\", \"r\")\n",
    "\n",
    "x = dataset.readline()\n",
    "x = dataset.readlines()\n",
    "\n",
    "dates = list()\n",
    "snos = list()\n",
    "temps = list()\n",
    "\n",
    "for i in range(len(x)):\n",
    "\ta, b = x[i].strip().split(\",\")\n",
    "\tif b[0] == \"?\":\n",
    "\t\tb = b[1:]\n",
    "\tdates.append(a)\n",
    "\ttemps.append(float(b))\n",
    "\tsnos.append(i)\n",
    "\n",
    "df = {\"index\":snos, \"temp\":temps}\n",
    "df = pd.DataFrame(df)\n",
    "\n",
    "model = ExponentialSmoothing(df['temp'],trend='add',damped=False,seasonal=None,seasonal_periods=0)\n",
    "model_fit = model.fit(optimized=True)\n",
    "yhat=[]\n",
    "yhat.append(model_fit.forecast(len(df['temp'])))\n",
    "print(model_fit.forecast(len(df['temp'])))"
   ]
  },
  {
   "cell_type": "code",
   "execution_count": null,
   "metadata": {},
   "outputs": [],
   "source": [
    "\n"
   ]
  }
 ],
 "metadata": {
  "kernelspec": {
   "display_name": "Python 3",
   "language": "python",
   "name": "python3"
  },
  "language_info": {
   "codemirror_mode": {
    "name": "ipython",
    "version": 3
   },
   "file_extension": ".py",
   "mimetype": "text/x-python",
   "name": "python",
   "nbconvert_exporter": "python",
   "pygments_lexer": "ipython3",
   "version": "3.6.8"
  }
 },
 "nbformat": 4,
 "nbformat_minor": 2
}
