{
 "cells": [
  {
   "cell_type": "code",
   "execution_count": 2,
   "metadata": {},
   "outputs": [
    {
     "name": "stdout",
     "output_type": "stream",
     "text": [
      "predicted=0.524584, expected=0.512466\n",
      "predicted=0.518213, expected=0.647000\n",
      "predicted=0.519625, expected=0.051941\n",
      "predicted=0.522755, expected=0.451842\n",
      "predicted=0.539684, expected=0.459972\n",
      "predicted=0.543302, expected=0.966308\n",
      "predicted=0.542120, expected=0.537554\n",
      "predicted=0.525274, expected=0.834911\n",
      "predicted=0.520981, expected=0.342321\n",
      "predicted=0.514682, expected=0.639574\n",
      "predicted=0.518621, expected=0.051954\n",
      "predicted=0.535339, expected=0.394753\n",
      "predicted=0.549070, expected=0.763879\n",
      "predicted=0.546628, expected=0.748284\n",
      "predicted=0.535159, expected=0.276905\n",
      "predicted=0.536636, expected=0.326222\n",
      "predicted=0.549913, expected=0.824156\n",
      "predicted=0.547630, expected=0.716223\n",
      "predicted=0.533802, expected=0.867748\n",
      "Test MSE: 0.064\n"
     ]
    }
   ],
   "source": [
    "import numpy as np\n",
    "from matplotlib import pyplot\n",
    "from statsmodels.tsa.arima_model import ARIMA\n",
    "from sklearn.metrics import mean_squared_error\n",
    "from statsmodels.tsa.arima_model import ARMA\n",
    "from random import random\n",
    "\n",
    "data = [random() for x in range(1, 100)]\n",
    "train, test = data[0:80], data[80:len(data)]\n",
    "history = [x for x in train]\n",
    "predictions = list()\n",
    "for t in range(len(test)):\n",
    "\tmodel = ARMA(history, order=(2,1))\n",
    "\tmodel_fit = model.fit(disp=False)\n",
    "\toutput = model_fit.forecast()\n",
    "\tyhat = output[0]\n",
    "\tpredictions.append(yhat)\n",
    "\tobs = test[t]\n",
    "\thistory.append(obs)\n",
    "\tprint('predicted=%f, expected=%f' % (yhat, obs))\n",
    "error = mean_squared_error(test, predictions)\n",
    "print('Test MSE: %.3f' % error)"
   ]
  },
  {
   "cell_type": "code",
   "execution_count": null,
   "metadata": {},
   "outputs": [],
   "source": []
  }
 ],
 "metadata": {
  "kernelspec": {
   "display_name": "Python 3",
   "language": "python",
   "name": "python3"
  },
  "language_info": {
   "codemirror_mode": {
    "name": "ipython",
    "version": 3
   },
   "file_extension": ".py",
   "mimetype": "text/x-python",
   "name": "python",
   "nbconvert_exporter": "python",
   "pygments_lexer": "ipython3",
   "version": "3.7.3"
  }
 },
 "nbformat": 4,
 "nbformat_minor": 2
}
