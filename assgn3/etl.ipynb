{
 "cells": [
  {
   "cell_type": "code",
   "execution_count": 75,
   "metadata": {},
   "outputs": [],
   "source": [
    "import pandas as pd"
   ]
  },
  {
   "cell_type": "code",
   "execution_count": 76,
   "metadata": {},
   "outputs": [],
   "source": [
    "df=pd.read_csv(\"iris.csv\")"
   ]
  },
  {
   "cell_type": "code",
   "execution_count": 77,
   "metadata": {},
   "outputs": [
    {
     "name": "stdout",
     "output_type": "stream",
     "text": [
      "       sepal_length  sepal_width  petal_length  petal_width\n",
      "count    150.000000   150.000000    150.000000   150.000000\n",
      "mean       5.843333     3.057333      3.758000     1.199333\n",
      "std        0.828066     0.435866      1.765298     0.762238\n",
      "min        4.300000     2.000000      1.000000     0.100000\n",
      "25%        5.100000     2.800000      1.600000     0.300000\n",
      "50%        5.800000     3.000000      4.350000     1.300000\n",
      "75%        6.400000     3.300000      5.100000     1.800000\n",
      "max        7.900000     4.400000      6.900000     2.500000\n",
      "Index(['sepal_length', 'sepal_width', 'petal_length', 'petal_width',\n",
      "       'species'],\n",
      "      dtype='object')\n"
     ]
    }
   ],
   "source": [
    "print(df.describe())\n",
    "print(df.columns)"
   ]
  },
  {
   "cell_type": "code",
   "execution_count": 78,
   "metadata": {
    "scrolled": true
   },
   "outputs": [
    {
     "name": "stdout",
     "output_type": "stream",
     "text": [
      "       sepal_length  sepal_width  petal_length  petal_width      sepal1\n",
      "count    150.000000   150.000000    150.000000   150.000000  150.000000\n",
      "mean       5.843333     3.057333      3.758000     1.199333    5.843333\n",
      "std        0.828066     0.435866      1.765298     0.762238    0.828066\n",
      "min        4.300000     2.000000      1.000000     0.100000    4.300000\n",
      "25%        5.100000     2.800000      1.600000     0.300000    5.100000\n",
      "50%        5.800000     3.000000      4.350000     1.300000    5.800000\n",
      "75%        6.400000     3.300000      5.100000     1.800000    6.400000\n",
      "max        7.900000     4.400000      6.900000     2.500000    7.900000 Index(['sepal_length', 'sepal_width', 'petal_length', 'petal_width', 'species',\n",
      "       'sepal1'],\n",
      "      dtype='object')\n"
     ]
    }
   ],
   "source": [
    "df['sepal1'] = df['sepal_length']\n",
    "print(df.describe(),df.columns)\n"
   ]
  },
  {
   "cell_type": "code",
   "execution_count": 79,
   "metadata": {},
   "outputs": [
    {
     "name": "stdout",
     "output_type": "stream",
     "text": [
      "sepal_length\n",
      "sepal_width\n",
      "petal_length\n",
      "petal_width\n",
      "species\n",
      "sepal1\n",
      "5.1\n"
     ]
    }
   ],
   "source": [
    "for i in df.iteritems():\n",
    "    print(i[0])\n",
    "print(df['sepal_length'][0])"
   ]
  },
  {
   "cell_type": "code",
   "execution_count": 80,
   "metadata": {},
   "outputs": [
    {
     "name": "stdout",
     "output_type": "stream",
     "text": [
      "sepal_length\n",
      "sepal_width\n",
      "petal_length\n",
      "petal_width\n",
      "species\n",
      "sepal1\n",
      "<class 'str'>\n"
     ]
    }
   ],
   "source": [
    "# print(df['sepal_length'].corr(df['sepal1']))\n",
    "for i in df.columns:\n",
    "    print(i)\n",
    "    \n",
    "print(type(df['species'][0]))"
   ]
  },
  {
   "cell_type": "code",
   "execution_count": 87,
   "metadata": {},
   "outputs": [
    {
     "name": "stdout",
     "output_type": "stream",
     "text": [
      "sepal_length sepal1\n",
      "sepal1 sepal_length\n"
     ]
    }
   ],
   "source": [
    "for i in df.columns:\n",
    "    for j in df.columns:\n",
    "        if df[i].dtype == df[j].dtype and type(df[i][0]) is not str and i != j:\n",
    "            if int(df[i].corr(df[j])) == 1 and df[i][0] == df[j][0] :\n",
    "                \n",
    "                "
   ]
  },
  {
   "cell_type": "code",
   "execution_count": null,
   "metadata": {},
   "outputs": [],
   "source": []
  }
 ],
 "metadata": {
  "kernelspec": {
   "display_name": "Python 3",
   "language": "python",
   "name": "python3"
  },
  "language_info": {
   "codemirror_mode": {
    "name": "ipython",
    "version": 3
   },
   "file_extension": ".py",
   "mimetype": "text/x-python",
   "name": "python",
   "nbconvert_exporter": "python",
   "pygments_lexer": "ipython3",
   "version": "3.6.6"
  }
 },
 "nbformat": 4,
 "nbformat_minor": 2
}
